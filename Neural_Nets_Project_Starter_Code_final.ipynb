{
 "cells": [
  {
   "cell_type": "markdown",
   "metadata": {},
   "source": [
    "# Gesture Recognition\n",
    "In this group project, you are going to build a 3D Conv model that will be able to predict the 5 gestures correctly. Please import the following libraries to get started."
   ]
  },
  {
   "cell_type": "code",
   "execution_count": 1,
   "metadata": {},
   "outputs": [],
   "source": [
    "import numpy as np\n",
    "import os\n",
    "from scipy.misc import imread, imresize\n",
    "import datetime\n",
    "import os"
   ]
  },
  {
   "cell_type": "markdown",
   "metadata": {},
   "source": [
    "We set the random seed so that the results don't vary drastically."
   ]
  },
  {
   "cell_type": "code",
   "execution_count": 2,
   "metadata": {},
   "outputs": [
    {
     "name": "stderr",
     "output_type": "stream",
     "text": [
      "Using TensorFlow backend.\n"
     ]
    }
   ],
   "source": [
    "np.random.seed(30)\n",
    "import random as rn\n",
    "rn.seed(30)\n",
    "from keras import backend as K\n",
    "import tensorflow as tf\n",
    "tf.set_random_seed(30)"
   ]
  },
  {
   "cell_type": "markdown",
   "metadata": {},
   "source": [
    "In this block, you read the folder names for training and validation. You also set the `batch_size` here. Note that you set the batch size in such a way that you are able to use the GPU in full capacity. You keep increasing the batch size until the machine throws an error."
   ]
  },
  {
   "cell_type": "code",
   "execution_count": 3,
   "metadata": {},
   "outputs": [
    {
     "data": {
      "text/plain": [
       "['train',\n",
       " 'val',\n",
       " '6.+Cifar10_morelayer_notebook.ipynb',\n",
       " '3.+Cifar_10_notebook.ipynb',\n",
       " '7.+Cifar10_feature_map.ipynb',\n",
       " '1.+Cifar_10_with_dropout_without_BN.ipynb',\n",
       " 'val.csv',\n",
       " '.ipynb_checkpoints',\n",
       " 'train.csv',\n",
       " '2.+Cifar_10_Notebook_with_BN_without_dropout.ipynb',\n",
       " 'Neural_Nets_Project_Starter_Code.ipynb',\n",
       " '4.+Cifar10_l2_notebook.ipynb',\n",
       " '5.+Cifar10_l2_dropout_notebook.ipynb']"
      ]
     },
     "execution_count": 3,
     "metadata": {},
     "output_type": "execute_result"
    }
   ],
   "source": [
    "os.listdir()"
   ]
  },
  {
   "cell_type": "code",
   "execution_count": 58,
   "metadata": {},
   "outputs": [],
   "source": [
    "train_doc = np.random.permutation(open('train.csv').readlines())\n",
    "val_doc = np.random.permutation(open('val.csv').readlines())\n",
    "batch_size = 30"
   ]
  },
  {
   "cell_type": "markdown",
   "metadata": {},
   "source": [
    "## Generator\n",
    "This is one of the most important part of the code. The overall structure of the generator has been given. In the generator, you are going to preprocess the images as you have images of 2 different dimensions as well as create a batch of video frames. You have to experiment with `img_idx`, `y`,`z` and normalization such that you get high accuracy."
   ]
  },
  {
   "cell_type": "code",
   "execution_count": 59,
   "metadata": {},
   "outputs": [],
   "source": [
    "def generator(source_path, folder_list, batch_size):\n",
    "    print( 'Source path = ', source_path, '; batch size =', batch_size)\n",
    "    img_idx = [rn.randint(0,30) for j in range(0,20)]\n",
    "    \n",
    "    while True:\n",
    "        t = np.random.permutation(folder_list)\n",
    "        num_batches = int(len(t)/batch_size) # calculate the number of batches\n",
    "        for batch in range(num_batches): # we iterate over the number of batches\n",
    "            batch_data = np.zeros((batch_size,20,120,120,3)) # x is the number of images you use for each video, (y,z) is the final size of the input images and 3 is the number of channels RGB\n",
    "            batch_labels = np.zeros((batch_size,5)) # batch_labels is the one hot representation of the output\n",
    "            for folder in range(batch_size): # iterate over the batch_size\n",
    "                imgs = os.listdir(source_path+'/'+ t[folder + (batch*batch_size)].split(';')[0]) # read all the images in the folder\n",
    "                for idx,item in enumerate(img_idx): #  Iterate iver the frames/images of a folder to read them in\n",
    "                    image = imread(source_path+'/'+ t[folder + (batch*batch_size)].strip().split(';')[0]+'/'+imgs[item]).astype(np.float32)\n",
    "                    \n",
    "                    #crop the images and resize them. Note that the images are of 2 different shape \n",
    "                    if image.shape[0] != image.shape[1]:\n",
    "                        image = image[0:120,20:140]\n",
    "                    #and the conv3D will throw error if the inputs in a batch have different shapes\n",
    "                    resized = imresize(image,(120,120,3), interp='bilinear')\n",
    "                    # normal data\n",
    "                    batch_data[folder,idx] = (resized)\n",
    "                    batch_data[folder,idx,:,:,0] = (resized[:,:,0])/255 #normalise and feed in the image\n",
    "                    batch_data[folder,idx,:,:,1] = (resized[:,:,1])/255 #normalise and feed in the image\n",
    "                    batch_data[folder,idx,:,:,2] = (resized[:,:,2])/255 #normalise and feed in the image\n",
    "                    \n",
    "                batch_labels[folder, int(t[folder + (batch*batch_size)].strip().split(';')[2])] = 1\n",
    "            yield batch_data, batch_labels #you yield the batch_data and the batch_labels, remember what does yield do\n",
    "\n",
    "        \n",
    "    # write the code for the remaining data points which are left after full batches\n",
    "    if (len(t)%batch_size) != 0:\n",
    "        remaining_batch = len(t)%batch_size\n",
    "        batch_data = np.zeros((remaining_batch,20,120,120,3)) # x is the number of images you use for each video, (y,z) is the final size of the input images and 3 is the number of channels RGB\n",
    "        batch_labels = np.zeros((remaining_batch,5)) # batch_labels is the one hot representation of the output\n",
    "        for folder in range(remaining_batch): # iterate over the batch_size\n",
    "            imgs = os.listdir(source_path+'/'+ t[folder + (batch*remaining_batch)].split(';')[0]) # read all the images in the folder\n",
    "            for idx,item in enumerate(img_idx): #  Iterate iver the frames/images of a folder to read them in\n",
    "                image = imread(source_path+'/'+ t[folder + (batch*remaining_batch)].strip().split(';')[0]+'/'+imgs[item]).astype(np.float32)\n",
    "\n",
    "                #crop the images and resize them. Note that the images are of 2 different shape \n",
    "                if image.shape[0] != image.shape[1]:\n",
    "                    image = image[0:120,20:140]\n",
    "                #and the conv3D will throw error if the inputs in a batch have different shapes\n",
    "                resized = imresize(image,(120,120,3), interp='bilinear')\n",
    "                # normal data\n",
    "                batch_data[folder,idx] = (resized)\n",
    "                batch_data[folder,idx,:,:,0] = (resized[:,:,0])/255 #normalise and feed in the image\n",
    "                batch_data[folder,idx,:,:,1] = (resized[:,:,1])/255 #normalise and feed in the image\n",
    "                batch_data[folder,idx,:,:,2] = (resized[:,:,2])/255 #normalise and feed in the image\n",
    "\n",
    "            batch_labels[folder, int(t[folder + (batch*remaining_batch)].strip().split(';')[2])] = 1\n",
    "            yield batch_data, batch_labels #you yield the batch_data and the batch_labels, remember what does yield do\n"
   ]
  },
  {
   "cell_type": "markdown",
   "metadata": {},
   "source": [
    "Note here that a video is represented above in the generator as (number of images, height, width, number of channels). Take this into consideration while creating the model architecture."
   ]
  },
  {
   "cell_type": "code",
   "execution_count": 60,
   "metadata": {},
   "outputs": [
    {
     "name": "stdout",
     "output_type": "stream",
     "text": [
      "# training sequences = 663\n",
      "# validation sequences = 100\n",
      "# epochs = 20\n"
     ]
    }
   ],
   "source": [
    "curr_dt_time = datetime.datetime.now()\n",
    "train_path = 'train'\n",
    "val_path = 'val'\n",
    "num_train_sequences = len(train_doc)\n",
    "print('# training sequences =', num_train_sequences)\n",
    "num_val_sequences = len(val_doc)\n",
    "print('# validation sequences =', num_val_sequences)\n",
    "num_epochs = 20\n",
    "print ('# epochs =', num_epochs)"
   ]
  },
  {
   "cell_type": "markdown",
   "metadata": {},
   "source": [
    "## Model\n",
    "Here you make the model using different functionalities that Keras provides. Remember to use `Conv3D` and `MaxPooling3D` and not `Conv2D` and `Maxpooling2D` for a 3D convolution model. You would want to use `TimeDistributed` while building a Conv2D + RNN model. Also remember that the last layer is the softmax. Design the network in such a way that the model is able to give good accuracy on the least number of parameters so that it can fit in the memory of the webcam."
   ]
  },
  {
   "cell_type": "code",
   "execution_count": 61,
   "metadata": {},
   "outputs": [],
   "source": [
    "from keras.models import Sequential, Model\n",
    "from keras.layers import Dense, GRU, Flatten, TimeDistributed, Flatten, BatchNormalization, Activation, Dropout\n",
    "from keras.layers.convolutional import Conv3D, MaxPooling3D, Conv2D, MaxPooling2D\n",
    "from keras.callbacks import ModelCheckpoint, ReduceLROnPlateau\n",
    "from keras import optimizers\n",
    "from keras.applications.vgg16 import VGG16\n",
    "from keras.layers.pooling import GlobalAveragePooling2D\n",
    "from keras.layers.recurrent import LSTM\n",
    "from keras.layers.wrappers import TimeDistributed\n",
    "\n",
    "#write your model here\n",
    "# model = Sequential()\n",
    "\n",
    "vgg = VGG16(include_top=False, weights='imagenet', input_shape=(120,120,3))\n",
    "\n",
    "for layer in vgg.layers:\n",
    "    layer.trainable = False # Create Sequential Model\n",
    "\n",
    "model = Sequential()\n",
    "model.add(TimeDistributed(vgg,input_shape=(20,120,120,3)))\n",
    "model.add(TimeDistributed(MaxPooling2D(2,2)))\n",
    "model.add(TimeDistributed(Flatten()))\n",
    "model.add(Dropout(0.3))\n",
    "model.add(GRU(256,return_sequences=False,dropout=0.5))\n",
    "model.add(Dense(128,activation='relu'))\n",
    "model.add(Dropout(0.3))\n",
    "model.add(Dense(64,activation='relu'))\n",
    "model.add(Dense(5,activation='softmax'))"
   ]
  },
  {
   "cell_type": "markdown",
   "metadata": {},
   "source": [
    "Now that you have written the model, the next step is to `compile` the model. When you print the `summary` of the model, you'll see the total number of parameters you have to train."
   ]
  },
  {
   "cell_type": "code",
   "execution_count": 62,
   "metadata": {
    "scrolled": true
   },
   "outputs": [
    {
     "name": "stdout",
     "output_type": "stream",
     "text": [
      "_________________________________________________________________\n",
      "Layer (type)                 Output Shape              Param #   \n",
      "=================================================================\n",
      "time_distributed_19 (TimeDis (None, 20, 3, 3, 512)     14714688  \n",
      "_________________________________________________________________\n",
      "time_distributed_20 (TimeDis (None, 20, 1, 1, 512)     0         \n",
      "_________________________________________________________________\n",
      "time_distributed_21 (TimeDis (None, 20, 512)           0         \n",
      "_________________________________________________________________\n",
      "dropout_13 (Dropout)         (None, 20, 512)           0         \n",
      "_________________________________________________________________\n",
      "gru_7 (GRU)                  (None, 256)               590592    \n",
      "_________________________________________________________________\n",
      "dense_19 (Dense)             (None, 128)               32896     \n",
      "_________________________________________________________________\n",
      "dropout_14 (Dropout)         (None, 128)               0         \n",
      "_________________________________________________________________\n",
      "dense_20 (Dense)             (None, 64)                8256      \n",
      "_________________________________________________________________\n",
      "dense_21 (Dense)             (None, 5)                 325       \n",
      "=================================================================\n",
      "Total params: 15,346,757\n",
      "Trainable params: 632,069\n",
      "Non-trainable params: 14,714,688\n",
      "_________________________________________________________________\n",
      "None\n"
     ]
    }
   ],
   "source": [
    "optimiser = optimizers.Nadam(lr=0.002,beta_1=0.9,beta_2=0.999,epsilon=1e-08,schedule_decay=0.004)#write your optimizer\n",
    "model.compile(optimizer=optimiser, loss='categorical_crossentropy', metrics=['categorical_accuracy'])\n",
    "print (model.summary())"
   ]
  },
  {
   "cell_type": "markdown",
   "metadata": {},
   "source": [
    "Let us create the `train_generator` and the `val_generator` which will be used in `.fit_generator`."
   ]
  },
  {
   "cell_type": "code",
   "execution_count": 63,
   "metadata": {},
   "outputs": [],
   "source": [
    "train_generator = generator(train_path, train_doc, batch_size)\n",
    "val_generator = generator(val_path, val_doc, batch_size)"
   ]
  },
  {
   "cell_type": "code",
   "execution_count": 64,
   "metadata": {},
   "outputs": [
    {
     "name": "stderr",
     "output_type": "stream",
     "text": [
      "/mnt/disks/user/anaconda3/lib/python3.6/site-packages/keras/callbacks.py:999: UserWarning: `epsilon` argument is deprecated and will be removed, use `min_delta` instead.\n",
      "  warnings.warn('`epsilon` argument is deprecated and '\n"
     ]
    }
   ],
   "source": [
    "model_name = 'model_init' + '_' + str(curr_dt_time).replace(' ','').replace(':','_') + '/'\n",
    "    \n",
    "if not os.path.exists(model_name):\n",
    "    os.mkdir(model_name)\n",
    "        \n",
    "filepath = model_name + 'model-{epoch:05d}-{loss:.5f}-{categorical_accuracy:.5f}-{val_loss:.5f}-{val_categorical_accuracy:.5f}.h5'\n",
    "\n",
    "checkpoint = ModelCheckpoint(filepath, monitor='val_loss', verbose=1, save_best_only=True, save_weights_only=False, mode='auto', period=1)\n",
    "\n",
    "LR = ReduceLROnPlateau(monitor='val_loss',factor=0.5,patience=2,verbose=1,mode='auto',epsilon=1e-04,cooldown=1,min_lr=0) # write the REducelronplateau code here\n",
    "callbacks_list = [checkpoint, LR]"
   ]
  },
  {
   "cell_type": "markdown",
   "metadata": {},
   "source": [
    "The `steps_per_epoch` and `validation_steps` are used by `fit_generator` to decide the number of next() calls it need to make."
   ]
  },
  {
   "cell_type": "code",
   "execution_count": 65,
   "metadata": {},
   "outputs": [],
   "source": [
    "if (num_train_sequences%batch_size) == 0:\n",
    "    steps_per_epoch = int(num_train_sequences/batch_size)\n",
    "else:\n",
    "    steps_per_epoch = (num_train_sequences//batch_size) + 1\n",
    "\n",
    "if (num_val_sequences%batch_size) == 0:\n",
    "    validation_steps = int(num_val_sequences/batch_size)\n",
    "else:\n",
    "    validation_steps = (num_val_sequences//batch_size) + 1"
   ]
  },
  {
   "cell_type": "markdown",
   "metadata": {},
   "source": [
    "Let us now fit the model. This will start training the model and with the help of the checkpoints, you'll be able to save the model at the end of each epoch."
   ]
  },
  {
   "cell_type": "code",
   "execution_count": 66,
   "metadata": {},
   "outputs": [
    {
     "name": "stdout",
     "output_type": "stream",
     "text": [
      "Source path =  val Source path =  train ; batch size = 30\n",
      "; batch size = 30\n",
      "Epoch 1/20\n"
     ]
    },
    {
     "name": "stderr",
     "output_type": "stream",
     "text": [
      "/mnt/disks/user/anaconda3/lib/python3.6/site-packages/ipykernel_launcher.py:14: DeprecationWarning: `imread` is deprecated!\n",
      "`imread` is deprecated in SciPy 1.0.0, and will be removed in 1.2.0.\n",
      "Use ``imageio.imread`` instead.\n",
      "  \n",
      "/mnt/disks/user/anaconda3/lib/python3.6/site-packages/ipykernel_launcher.py:20: DeprecationWarning: `imresize` is deprecated!\n",
      "`imresize` is deprecated in SciPy 1.0.0, and will be removed in 1.2.0.\n",
      "Use ``skimage.transform.resize`` instead.\n"
     ]
    },
    {
     "name": "stdout",
     "output_type": "stream",
     "text": [
      "23/23 [==============================] - 133s 6s/step - loss: 1.6477 - categorical_accuracy: 0.2261 - val_loss: 1.4636 - val_categorical_accuracy: 0.4083\n",
      "\n",
      "Epoch 00001: val_loss improved from inf to 1.46359, saving model to model_init_2020-04-1312_54_22.586719/model-00001-1.64771-0.22609-1.46359-0.40833.h5\n",
      "Epoch 2/20\n",
      "23/23 [==============================] - 55s 2s/step - loss: 1.4855 - categorical_accuracy: 0.3652 - val_loss: 1.3493 - val_categorical_accuracy: 0.4083\n",
      "\n",
      "Epoch 00002: val_loss improved from 1.46359 to 1.34927, saving model to model_init_2020-04-1312_54_22.586719/model-00002-1.48547-0.36522-1.34927-0.40833.h5\n",
      "Epoch 3/20\n",
      "23/23 [==============================] - 54s 2s/step - loss: 1.3456 - categorical_accuracy: 0.4478 - val_loss: 1.1900 - val_categorical_accuracy: 0.5333\n",
      "\n",
      "Epoch 00003: val_loss improved from 1.34927 to 1.18997, saving model to model_init_2020-04-1312_54_22.586719/model-00003-1.34563-0.44783-1.18997-0.53333.h5\n",
      "Epoch 4/20\n",
      "23/23 [==============================] - 54s 2s/step - loss: 1.2353 - categorical_accuracy: 0.4957 - val_loss: 1.0288 - val_categorical_accuracy: 0.5750\n",
      "\n",
      "Epoch 00004: val_loss improved from 1.18997 to 1.02881, saving model to model_init_2020-04-1312_54_22.586719/model-00004-1.23528-0.49565-1.02881-0.57500.h5\n",
      "Epoch 5/20\n",
      "23/23 [==============================] - 54s 2s/step - loss: 1.1726 - categorical_accuracy: 0.5130 - val_loss: 1.0042 - val_categorical_accuracy: 0.5750\n",
      "\n",
      "Epoch 00005: val_loss improved from 1.02881 to 1.00423, saving model to model_init_2020-04-1312_54_22.586719/model-00005-1.17261-0.51304-1.00423-0.57500.h5\n",
      "Epoch 6/20\n",
      "23/23 [==============================] - 56s 2s/step - loss: 1.1373 - categorical_accuracy: 0.5188 - val_loss: 0.9416 - val_categorical_accuracy: 0.5917\n",
      "\n",
      "Epoch 00006: val_loss improved from 1.00423 to 0.94159, saving model to model_init_2020-04-1312_54_22.586719/model-00006-1.13726-0.51884-0.94159-0.59167.h5\n",
      "Epoch 7/20\n",
      "23/23 [==============================] - 54s 2s/step - loss: 1.0451 - categorical_accuracy: 0.5768 - val_loss: 0.9100 - val_categorical_accuracy: 0.6417\n",
      "\n",
      "Epoch 00007: val_loss improved from 0.94159 to 0.91001, saving model to model_init_2020-04-1312_54_22.586719/model-00007-1.04512-0.57681-0.91001-0.64167.h5\n",
      "Epoch 8/20\n",
      "23/23 [==============================] - 54s 2s/step - loss: 0.9964 - categorical_accuracy: 0.5942 - val_loss: 0.9163 - val_categorical_accuracy: 0.6500\n",
      "\n",
      "Epoch 00008: val_loss did not improve from 0.91001\n",
      "Epoch 9/20\n",
      "23/23 [==============================] - 55s 2s/step - loss: 1.0134 - categorical_accuracy: 0.5899 - val_loss: 0.7480 - val_categorical_accuracy: 0.6667\n",
      "\n",
      "Epoch 00009: val_loss improved from 0.91001 to 0.74800, saving model to model_init_2020-04-1312_54_22.586719/model-00009-1.01336-0.58986-0.74800-0.66667.h5\n",
      "Epoch 10/20\n",
      "23/23 [==============================] - 56s 2s/step - loss: 0.9614 - categorical_accuracy: 0.6145 - val_loss: 0.8690 - val_categorical_accuracy: 0.6333\n",
      "\n",
      "Epoch 00010: val_loss did not improve from 0.74800\n",
      "Epoch 11/20\n",
      "23/23 [==============================] - 55s 2s/step - loss: 0.8621 - categorical_accuracy: 0.6435 - val_loss: 0.6194 - val_categorical_accuracy: 0.7250\n",
      "\n",
      "Epoch 00011: val_loss improved from 0.74800 to 0.61940, saving model to model_init_2020-04-1312_54_22.586719/model-00011-0.86211-0.64348-0.61940-0.72500.h5\n",
      "Epoch 12/20\n",
      "23/23 [==============================] - 55s 2s/step - loss: 0.8539 - categorical_accuracy: 0.6551 - val_loss: 0.7504 - val_categorical_accuracy: 0.6417\n",
      "\n",
      "Epoch 00012: val_loss did not improve from 0.61940\n",
      "Epoch 13/20\n",
      "23/23 [==============================] - 55s 2s/step - loss: 0.8340 - categorical_accuracy: 0.6754 - val_loss: 0.6780 - val_categorical_accuracy: 0.7083\n",
      "\n",
      "Epoch 00013: val_loss did not improve from 0.61940\n",
      "\n",
      "Epoch 00013: ReduceLROnPlateau reducing learning rate to 0.0010000000474974513.\n",
      "Epoch 14/20\n",
      "23/23 [==============================] - 56s 2s/step - loss: 0.7314 - categorical_accuracy: 0.7261 - val_loss: 0.6488 - val_categorical_accuracy: 0.7500\n",
      "\n",
      "Epoch 00014: val_loss did not improve from 0.61940\n",
      "Epoch 15/20\n",
      "23/23 [==============================] - 53s 2s/step - loss: 0.7218 - categorical_accuracy: 0.7232 - val_loss: 0.6496 - val_categorical_accuracy: 0.6917\n",
      "\n",
      "Epoch 00015: val_loss did not improve from 0.61940\n",
      "\n",
      "Epoch 00015: ReduceLROnPlateau reducing learning rate to 0.0005000000237487257.\n",
      "Epoch 16/20\n",
      "23/23 [==============================] - 56s 2s/step - loss: 0.6687 - categorical_accuracy: 0.7435 - val_loss: 0.6222 - val_categorical_accuracy: 0.7000\n",
      "\n",
      "Epoch 00016: val_loss did not improve from 0.61940\n",
      "Epoch 17/20\n",
      "23/23 [==============================] - 53s 2s/step - loss: 0.7153 - categorical_accuracy: 0.7188 - val_loss: 0.5832 - val_categorical_accuracy: 0.7167\n",
      "\n",
      "Epoch 00017: val_loss improved from 0.61940 to 0.58321, saving model to model_init_2020-04-1312_54_22.586719/model-00017-0.71530-0.71884-0.58321-0.71667.h5\n",
      "Epoch 18/20\n",
      "23/23 [==============================] - 55s 2s/step - loss: 0.6089 - categorical_accuracy: 0.7754 - val_loss: 0.5391 - val_categorical_accuracy: 0.7417\n",
      "\n",
      "Epoch 00018: val_loss improved from 0.58321 to 0.53912, saving model to model_init_2020-04-1312_54_22.586719/model-00018-0.60893-0.77536-0.53912-0.74167.h5\n",
      "Epoch 19/20\n",
      "23/23 [==============================] - 54s 2s/step - loss: 0.6276 - categorical_accuracy: 0.7667 - val_loss: 0.6790 - val_categorical_accuracy: 0.7000\n",
      "\n",
      "Epoch 00019: val_loss did not improve from 0.53912\n",
      "Epoch 20/20\n",
      "23/23 [==============================] - 55s 2s/step - loss: 0.6029 - categorical_accuracy: 0.7652 - val_loss: 0.5819 - val_categorical_accuracy: 0.7333\n",
      "\n",
      "Epoch 00020: val_loss did not improve from 0.53912\n",
      "\n",
      "Epoch 00020: ReduceLROnPlateau reducing learning rate to 0.0002500000118743628.\n"
     ]
    },
    {
     "data": {
      "text/plain": [
       "<keras.callbacks.History at 0x7fdc99b249e8>"
      ]
     },
     "execution_count": 66,
     "metadata": {},
     "output_type": "execute_result"
    }
   ],
   "source": [
    "model.fit_generator(train_generator, steps_per_epoch=steps_per_epoch, epochs=num_epochs, verbose=1, \n",
    "                    callbacks=callbacks_list, validation_data=val_generator, \n",
    "                    validation_steps=validation_steps, \n",
    "                    class_weight=None,\n",
    "                    workers=1,\n",
    "                    initial_epoch=0)"
   ]
  },
  {
   "cell_type": "code",
   "execution_count": null,
   "metadata": {},
   "outputs": [],
   "source": []
  }
 ],
 "metadata": {
  "kernelspec": {
   "display_name": "Python 3",
   "language": "python",
   "name": "python3"
  },
  "language_info": {
   "codemirror_mode": {
    "name": "ipython",
    "version": 3
   },
   "file_extension": ".py",
   "mimetype": "text/x-python",
   "name": "python",
   "nbconvert_exporter": "python",
   "pygments_lexer": "ipython3",
   "version": "3.6.8"
  }
 },
 "nbformat": 4,
 "nbformat_minor": 2
}
